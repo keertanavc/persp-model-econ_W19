{
 "cells": [
  {
   "cell_type": "markdown",
   "metadata": {},
   "source": [
    "### Keertana V. Chidambaram <br/> Problem Set 8"
   ]
  },
  {
   "cell_type": "code",
   "execution_count": 1,
   "metadata": {},
   "outputs": [],
   "source": [
    "import graphviz\n",
    "import numpy as np\n",
    "import pandas as pd\n",
    "from scipy.stats import randint as sp_randint\n",
    "from scipy.stats import uniform as sp_uniform\n",
    "from sklearn.ensemble import RandomForestRegressor, RandomForestClassifier\n",
    "from sklearn.linear_model import LogisticRegression\n",
    "from sklearn.model_selection import train_test_split, RandomizedSearchCV, KFold\n",
    "from sklearn.metrics import mean_squared_error\n",
    "from sklearn.svm import SVC\n",
    "from sklearn.tree import DecisionTreeRegressor, DecisionTreeClassifier, export_graphviz"
   ]
  },
  {
   "cell_type": "code",
   "execution_count": 2,
   "metadata": {},
   "outputs": [],
   "source": [
    "# IGNORE: this was just to get graphviz to work!\n",
    "import os\n",
    "os.environ['PATH'] += os.pathsep + r'C:\\Program Files (x86)\\Graphviz2.38\\bin'"
   ]
  },
  {
   "cell_type": "markdown",
   "metadata": {},
   "source": [
    "#### Problem 1"
   ]
  },
  {
   "cell_type": "code",
   "execution_count": 3,
   "metadata": {},
   "outputs": [
    {
     "data": {
      "text/html": [
       "<div>\n",
       "<style scoped>\n",
       "    .dataframe tbody tr th:only-of-type {\n",
       "        vertical-align: middle;\n",
       "    }\n",
       "\n",
       "    .dataframe tbody tr th {\n",
       "        vertical-align: top;\n",
       "    }\n",
       "\n",
       "    .dataframe thead th {\n",
       "        text-align: right;\n",
       "    }\n",
       "</style>\n",
       "<table border=\"1\" class=\"dataframe\">\n",
       "  <thead>\n",
       "    <tr style=\"text-align: right;\">\n",
       "      <th></th>\n",
       "      <th>biden</th>\n",
       "      <th>female</th>\n",
       "      <th>age</th>\n",
       "      <th>educ</th>\n",
       "      <th>dem</th>\n",
       "      <th>rep</th>\n",
       "    </tr>\n",
       "  </thead>\n",
       "  <tbody>\n",
       "    <tr>\n",
       "      <th>0</th>\n",
       "      <td>90</td>\n",
       "      <td>0</td>\n",
       "      <td>19</td>\n",
       "      <td>12</td>\n",
       "      <td>1</td>\n",
       "      <td>0</td>\n",
       "    </tr>\n",
       "    <tr>\n",
       "      <th>1</th>\n",
       "      <td>70</td>\n",
       "      <td>1</td>\n",
       "      <td>51</td>\n",
       "      <td>14</td>\n",
       "      <td>1</td>\n",
       "      <td>0</td>\n",
       "    </tr>\n",
       "    <tr>\n",
       "      <th>2</th>\n",
       "      <td>60</td>\n",
       "      <td>0</td>\n",
       "      <td>27</td>\n",
       "      <td>14</td>\n",
       "      <td>0</td>\n",
       "      <td>0</td>\n",
       "    </tr>\n",
       "    <tr>\n",
       "      <th>3</th>\n",
       "      <td>50</td>\n",
       "      <td>1</td>\n",
       "      <td>43</td>\n",
       "      <td>14</td>\n",
       "      <td>1</td>\n",
       "      <td>0</td>\n",
       "    </tr>\n",
       "    <tr>\n",
       "      <th>4</th>\n",
       "      <td>60</td>\n",
       "      <td>1</td>\n",
       "      <td>38</td>\n",
       "      <td>14</td>\n",
       "      <td>0</td>\n",
       "      <td>1</td>\n",
       "    </tr>\n",
       "  </tbody>\n",
       "</table>\n",
       "</div>"
      ],
      "text/plain": [
       "   biden  female  age  educ  dem  rep\n",
       "0     90       0   19    12    1    0\n",
       "1     70       1   51    14    1    0\n",
       "2     60       0   27    14    0    0\n",
       "3     50       1   43    14    1    0\n",
       "4     60       1   38    14    0    1"
      ]
     },
     "execution_count": 3,
     "metadata": {},
     "output_type": "execute_result"
    }
   ],
   "source": [
    "# Solution 1.a.\n",
    "data = pd.read_csv('biden.csv')\n",
    "data = data.dropna()\n",
    "data.head()"
   ]
  },
  {
   "cell_type": "code",
   "execution_count": 4,
   "metadata": {},
   "outputs": [],
   "source": [
    "xvars = ['female', 'age', 'educ', 'dem', 'rep']\n",
    "X = data[xvars]\n",
    "y = data['biden']\n",
    "X_train, X_test, y_train, y_test = train_test_split(X, y, test_size = 0.30, random_state=25)"
   ]
  },
  {
   "cell_type": "code",
   "execution_count": 5,
   "metadata": {},
   "outputs": [
    {
     "data": {
      "text/plain": [
       "DecisionTreeRegressor(criterion='mse', max_depth=3, max_features=None,\n",
       "           max_leaf_nodes=None, min_impurity_decrease=0.0,\n",
       "           min_impurity_split=None, min_samples_leaf=5,\n",
       "           min_samples_split=2, min_weight_fraction_leaf=0.0,\n",
       "           presort=False, random_state=None, splitter='best')"
      ]
     },
     "execution_count": 5,
     "metadata": {},
     "output_type": "execute_result"
    }
   ],
   "source": [
    "biden_tree = DecisionTreeRegressor(max_depth=3, min_samples_leaf=5)\n",
    "biden_tree.fit(X_train, y_train)"
   ]
  },
  {
   "cell_type": "code",
   "execution_count": 6,
   "metadata": {},
   "outputs": [
    {
     "data": {
      "image/svg+xml": [
       "<?xml version=\"1.0\" encoding=\"UTF-8\" standalone=\"no\"?>\r\n",
       "<!DOCTYPE svg PUBLIC \"-//W3C//DTD SVG 1.1//EN\"\r\n",
       " \"http://www.w3.org/Graphics/SVG/1.1/DTD/svg11.dtd\">\r\n",
       "<!-- Generated by graphviz version 2.38.0 (20140413.2041)\r\n",
       " -->\r\n",
       "<!-- Title: Tree Pages: 1 -->\r\n",
       "<svg width=\"1038pt\" height=\"373pt\"\r\n",
       " viewBox=\"0.00 0.00 1038.00 373.00\" xmlns=\"http://www.w3.org/2000/svg\" xmlns:xlink=\"http://www.w3.org/1999/xlink\">\r\n",
       "<g id=\"graph0\" class=\"graph\" transform=\"scale(1 1) rotate(0) translate(4 369)\">\r\n",
       "<title>Tree</title>\r\n",
       "<polygon fill=\"white\" stroke=\"none\" points=\"-4,4 -4,-369 1034,-369 1034,4 -4,4\"/>\r\n",
       "<!-- 0 -->\r\n",
       "<g id=\"node1\" class=\"node\"><title>0</title>\r\n",
       "<path fill=\"#e58139\" fill-opacity=\"0.568627\" stroke=\"black\" d=\"M562,-365C562,-365 467,-365 467,-365 461,-365 455,-359 455,-353 455,-353 455,-309 455,-309 455,-303 461,-297 467,-297 467,-297 562,-297 562,-297 568,-297 574,-303 574,-309 574,-309 574,-353 574,-353 574,-359 568,-365 562,-365\"/>\r\n",
       "<text text-anchor=\"middle\" x=\"514.5\" y=\"-349.8\" font-family=\"Helvetica,sans-Serif\" font-size=\"14.00\">dem &lt;= 0.5</text>\r\n",
       "<text text-anchor=\"middle\" x=\"514.5\" y=\"-334.8\" font-family=\"Helvetica,sans-Serif\" font-size=\"14.00\">mse = 556.262</text>\r\n",
       "<text text-anchor=\"middle\" x=\"514.5\" y=\"-319.8\" font-family=\"Helvetica,sans-Serif\" font-size=\"14.00\">samples = 1264</text>\r\n",
       "<text text-anchor=\"middle\" x=\"514.5\" y=\"-304.8\" font-family=\"Helvetica,sans-Serif\" font-size=\"14.00\">value = 62.165</text>\r\n",
       "</g>\r\n",
       "<!-- 1 -->\r\n",
       "<g id=\"node2\" class=\"node\"><title>1</title>\r\n",
       "<path fill=\"#e58139\" fill-opacity=\"0.345098\" stroke=\"black\" d=\"M428,-261C428,-261 339,-261 339,-261 333,-261 327,-255 327,-249 327,-249 327,-205 327,-205 327,-199 333,-193 339,-193 339,-193 428,-193 428,-193 434,-193 440,-199 440,-205 440,-205 440,-249 440,-249 440,-255 434,-261 428,-261\"/>\r\n",
       "<text text-anchor=\"middle\" x=\"383.5\" y=\"-245.8\" font-family=\"Helvetica,sans-Serif\" font-size=\"14.00\">rep &lt;= 0.5</text>\r\n",
       "<text text-anchor=\"middle\" x=\"383.5\" y=\"-230.8\" font-family=\"Helvetica,sans-Serif\" font-size=\"14.00\">mse = 507.397</text>\r\n",
       "<text text-anchor=\"middle\" x=\"383.5\" y=\"-215.8\" font-family=\"Helvetica,sans-Serif\" font-size=\"14.00\">samples = 724</text>\r\n",
       "<text text-anchor=\"middle\" x=\"383.5\" y=\"-200.8\" font-family=\"Helvetica,sans-Serif\" font-size=\"14.00\">value = 52.811</text>\r\n",
       "</g>\r\n",
       "<!-- 0&#45;&gt;1 -->\r\n",
       "<g id=\"edge1\" class=\"edge\"><title>0&#45;&gt;1</title>\r\n",
       "<path fill=\"none\" stroke=\"black\" d=\"M471.968,-296.884C459.956,-287.531 446.764,-277.259 434.318,-267.568\"/>\r\n",
       "<polygon fill=\"black\" stroke=\"black\" points=\"436.307,-264.681 426.267,-261.299 432.007,-270.205 436.307,-264.681\"/>\r\n",
       "<text text-anchor=\"middle\" x=\"429.355\" y=\"-282.408\" font-family=\"Helvetica,sans-Serif\" font-size=\"14.00\">True</text>\r\n",
       "</g>\r\n",
       "<!-- 8 -->\r\n",
       "<g id=\"node9\" class=\"node\"><title>8</title>\r\n",
       "<path fill=\"#e58139\" fill-opacity=\"0.866667\" stroke=\"black\" d=\"M690,-261C690,-261 601,-261 601,-261 595,-261 589,-255 589,-249 589,-249 589,-205 589,-205 589,-199 595,-193 601,-193 601,-193 690,-193 690,-193 696,-193 702,-199 702,-205 702,-205 702,-249 702,-249 702,-255 696,-261 690,-261\"/>\r\n",
       "<text text-anchor=\"middle\" x=\"645.5\" y=\"-245.8\" font-family=\"Helvetica,sans-Serif\" font-size=\"14.00\">age &lt;= 54.5</text>\r\n",
       "<text text-anchor=\"middle\" x=\"645.5\" y=\"-230.8\" font-family=\"Helvetica,sans-Serif\" font-size=\"14.00\">mse = 347.197</text>\r\n",
       "<text text-anchor=\"middle\" x=\"645.5\" y=\"-215.8\" font-family=\"Helvetica,sans-Serif\" font-size=\"14.00\">samples = 540</text>\r\n",
       "<text text-anchor=\"middle\" x=\"645.5\" y=\"-200.8\" font-family=\"Helvetica,sans-Serif\" font-size=\"14.00\">value = 74.706</text>\r\n",
       "</g>\r\n",
       "<!-- 0&#45;&gt;8 -->\r\n",
       "<g id=\"edge8\" class=\"edge\"><title>0&#45;&gt;8</title>\r\n",
       "<path fill=\"none\" stroke=\"black\" d=\"M557.032,-296.884C569.044,-287.531 582.236,-277.259 594.682,-267.568\"/>\r\n",
       "<polygon fill=\"black\" stroke=\"black\" points=\"596.993,-270.205 602.733,-261.299 592.693,-264.681 596.993,-270.205\"/>\r\n",
       "<text text-anchor=\"middle\" x=\"599.645\" y=\"-282.408\" font-family=\"Helvetica,sans-Serif\" font-size=\"14.00\">False</text>\r\n",
       "</g>\r\n",
       "<!-- 2 -->\r\n",
       "<g id=\"node3\" class=\"node\"><title>2</title>\r\n",
       "<path fill=\"#e58139\" fill-opacity=\"0.490196\" stroke=\"black\" d=\"M232,-157C232,-157 143,-157 143,-157 137,-157 131,-151 131,-145 131,-145 131,-101 131,-101 131,-95 137,-89 143,-89 143,-89 232,-89 232,-89 238,-89 244,-95 244,-101 244,-101 244,-145 244,-145 244,-151 238,-157 232,-157\"/>\r\n",
       "<text text-anchor=\"middle\" x=\"187.5\" y=\"-141.8\" font-family=\"Helvetica,sans-Serif\" font-size=\"14.00\">female &lt;= 0.5</text>\r\n",
       "<text text-anchor=\"middle\" x=\"187.5\" y=\"-126.8\" font-family=\"Helvetica,sans-Serif\" font-size=\"14.00\">mse = 444.551</text>\r\n",
       "<text text-anchor=\"middle\" x=\"187.5\" y=\"-111.8\" font-family=\"Helvetica,sans-Serif\" font-size=\"14.00\">samples = 468</text>\r\n",
       "<text text-anchor=\"middle\" x=\"187.5\" y=\"-96.8\" font-family=\"Helvetica,sans-Serif\" font-size=\"14.00\">value = 58.868</text>\r\n",
       "</g>\r\n",
       "<!-- 1&#45;&gt;2 -->\r\n",
       "<g id=\"edge2\" class=\"edge\"><title>1&#45;&gt;2</title>\r\n",
       "<path fill=\"none\" stroke=\"black\" d=\"M326.809,-196.497C303.751,-184.498 276.959,-170.555 253.065,-158.121\"/>\r\n",
       "<polygon fill=\"black\" stroke=\"black\" points=\"254.55,-154.948 244.064,-153.436 251.319,-161.157 254.55,-154.948\"/>\r\n",
       "</g>\r\n",
       "<!-- 5 -->\r\n",
       "<g id=\"node6\" class=\"node\"><title>5</title>\r\n",
       "<path fill=\"#e58139\" fill-opacity=\"0.082353\" stroke=\"black\" d=\"M428,-157C428,-157 339,-157 339,-157 333,-157 327,-151 327,-145 327,-145 327,-101 327,-101 327,-95 333,-89 339,-89 339,-89 428,-89 428,-89 434,-89 440,-95 440,-101 440,-101 440,-145 440,-145 440,-151 434,-157 428,-157\"/>\r\n",
       "<text text-anchor=\"middle\" x=\"383.5\" y=\"-141.8\" font-family=\"Helvetica,sans-Serif\" font-size=\"14.00\">female &lt;= 0.5</text>\r\n",
       "<text text-anchor=\"middle\" x=\"383.5\" y=\"-126.8\" font-family=\"Helvetica,sans-Serif\" font-size=\"14.00\">mse = 432.623</text>\r\n",
       "<text text-anchor=\"middle\" x=\"383.5\" y=\"-111.8\" font-family=\"Helvetica,sans-Serif\" font-size=\"14.00\">samples = 256</text>\r\n",
       "<text text-anchor=\"middle\" x=\"383.5\" y=\"-96.8\" font-family=\"Helvetica,sans-Serif\" font-size=\"14.00\">value = 41.738</text>\r\n",
       "</g>\r\n",
       "<!-- 1&#45;&gt;5 -->\r\n",
       "<g id=\"edge5\" class=\"edge\"><title>1&#45;&gt;5</title>\r\n",
       "<path fill=\"none\" stroke=\"black\" d=\"M383.5,-192.884C383.5,-184.778 383.5,-175.982 383.5,-167.472\"/>\r\n",
       "<polygon fill=\"black\" stroke=\"black\" points=\"387,-167.299 383.5,-157.299 380,-167.299 387,-167.299\"/>\r\n",
       "</g>\r\n",
       "<!-- 3 -->\r\n",
       "<g id=\"node4\" class=\"node\"><title>3</title>\r\n",
       "<path fill=\"#e58139\" fill-opacity=\"0.431373\" stroke=\"black\" d=\"M101,-53C101,-53 12,-53 12,-53 6,-53 0,-47 0,-41 0,-41 0,-12 0,-12 0,-6 6,-0 12,-0 12,-0 101,-0 101,-0 107,-0 113,-6 113,-12 113,-12 113,-41 113,-41 113,-47 107,-53 101,-53\"/>\r\n",
       "<text text-anchor=\"middle\" x=\"56.5\" y=\"-37.8\" font-family=\"Helvetica,sans-Serif\" font-size=\"14.00\">mse = 470.335</text>\r\n",
       "<text text-anchor=\"middle\" x=\"56.5\" y=\"-22.8\" font-family=\"Helvetica,sans-Serif\" font-size=\"14.00\">samples = 235</text>\r\n",
       "<text text-anchor=\"middle\" x=\"56.5\" y=\"-7.8\" font-family=\"Helvetica,sans-Serif\" font-size=\"14.00\">value = 56.489</text>\r\n",
       "</g>\r\n",
       "<!-- 2&#45;&gt;3 -->\r\n",
       "<g id=\"edge3\" class=\"edge\"><title>2&#45;&gt;3</title>\r\n",
       "<path fill=\"none\" stroke=\"black\" d=\"M141.683,-88.9485C128.367,-79.3431 113.855,-68.8747 100.645,-59.345\"/>\r\n",
       "<polygon fill=\"black\" stroke=\"black\" points=\"102.335,-56.2486 92.1773,-53.2367 98.2398,-61.9257 102.335,-56.2486\"/>\r\n",
       "</g>\r\n",
       "<!-- 4 -->\r\n",
       "<g id=\"node5\" class=\"node\"><title>4</title>\r\n",
       "<path fill=\"#e58139\" fill-opacity=\"0.545098\" stroke=\"black\" d=\"M232,-53C232,-53 143,-53 143,-53 137,-53 131,-47 131,-41 131,-41 131,-12 131,-12 131,-6 137,-0 143,-0 143,-0 232,-0 232,-0 238,-0 244,-6 244,-12 244,-12 244,-41 244,-41 244,-47 238,-53 232,-53\"/>\r\n",
       "<text text-anchor=\"middle\" x=\"187.5\" y=\"-37.8\" font-family=\"Helvetica,sans-Serif\" font-size=\"14.00\">mse = 407.088</text>\r\n",
       "<text text-anchor=\"middle\" x=\"187.5\" y=\"-22.8\" font-family=\"Helvetica,sans-Serif\" font-size=\"14.00\">samples = 233</text>\r\n",
       "<text text-anchor=\"middle\" x=\"187.5\" y=\"-7.8\" font-family=\"Helvetica,sans-Serif\" font-size=\"14.00\">value = 61.266</text>\r\n",
       "</g>\r\n",
       "<!-- 2&#45;&gt;4 -->\r\n",
       "<g id=\"edge4\" class=\"edge\"><title>2&#45;&gt;4</title>\r\n",
       "<path fill=\"none\" stroke=\"black\" d=\"M187.5,-88.9485C187.5,-80.7153 187.5,-71.848 187.5,-63.4814\"/>\r\n",
       "<polygon fill=\"black\" stroke=\"black\" points=\"191,-63.2367 187.5,-53.2367 184,-63.2367 191,-63.2367\"/>\r\n",
       "</g>\r\n",
       "<!-- 6 -->\r\n",
       "<g id=\"node7\" class=\"node\"><title>6</title>\r\n",
       "<path fill=\"none\" stroke=\"black\" d=\"M363,-53C363,-53 274,-53 274,-53 268,-53 262,-47 262,-41 262,-41 262,-12 262,-12 262,-6 268,-0 274,-0 274,-0 363,-0 363,-0 369,-0 375,-6 375,-12 375,-12 375,-41 375,-41 375,-47 369,-53 363,-53\"/>\r\n",
       "<text text-anchor=\"middle\" x=\"318.5\" y=\"-37.8\" font-family=\"Helvetica,sans-Serif\" font-size=\"14.00\">mse = 456.775</text>\r\n",
       "<text text-anchor=\"middle\" x=\"318.5\" y=\"-22.8\" font-family=\"Helvetica,sans-Serif\" font-size=\"14.00\">samples = 123</text>\r\n",
       "<text text-anchor=\"middle\" x=\"318.5\" y=\"-7.8\" font-family=\"Helvetica,sans-Serif\" font-size=\"14.00\">value = 38.333</text>\r\n",
       "</g>\r\n",
       "<!-- 5&#45;&gt;6 -->\r\n",
       "<g id=\"edge6\" class=\"edge\"><title>5&#45;&gt;6</title>\r\n",
       "<path fill=\"none\" stroke=\"black\" d=\"M360.766,-88.9485C354.663,-80.0749 348.053,-70.4648 341.913,-61.5388\"/>\r\n",
       "<polygon fill=\"black\" stroke=\"black\" points=\"344.753,-59.4924 336.202,-53.2367 338.986,-63.4594 344.753,-59.4924\"/>\r\n",
       "</g>\r\n",
       "<!-- 7 -->\r\n",
       "<g id=\"node8\" class=\"node\"><title>7</title>\r\n",
       "<path fill=\"#e58139\" fill-opacity=\"0.156863\" stroke=\"black\" d=\"M494,-53C494,-53 405,-53 405,-53 399,-53 393,-47 393,-41 393,-41 393,-12 393,-12 393,-6 399,-0 405,-0 405,-0 494,-0 494,-0 500,-0 506,-6 506,-12 506,-12 506,-41 506,-41 506,-47 500,-53 494,-53\"/>\r\n",
       "<text text-anchor=\"middle\" x=\"449.5\" y=\"-37.8\" font-family=\"Helvetica,sans-Serif\" font-size=\"14.00\">mse = 389.649</text>\r\n",
       "<text text-anchor=\"middle\" x=\"449.5\" y=\"-22.8\" font-family=\"Helvetica,sans-Serif\" font-size=\"14.00\">samples = 133</text>\r\n",
       "<text text-anchor=\"middle\" x=\"449.5\" y=\"-7.8\" font-family=\"Helvetica,sans-Serif\" font-size=\"14.00\">value = 44.887</text>\r\n",
       "</g>\r\n",
       "<!-- 5&#45;&gt;7 -->\r\n",
       "<g id=\"edge7\" class=\"edge\"><title>5&#45;&gt;7</title>\r\n",
       "<path fill=\"none\" stroke=\"black\" d=\"M406.584,-88.9485C412.781,-80.0749 419.493,-70.4648 425.727,-61.5388\"/>\r\n",
       "<polygon fill=\"black\" stroke=\"black\" points=\"428.669,-63.4392 431.525,-53.2367 422.93,-59.4311 428.669,-63.4392\"/>\r\n",
       "</g>\r\n",
       "<!-- 9 -->\r\n",
       "<g id=\"node10\" class=\"node\"><title>9</title>\r\n",
       "<path fill=\"#e58139\" fill-opacity=\"0.815686\" stroke=\"black\" d=\"M690,-157C690,-157 601,-157 601,-157 595,-157 589,-151 589,-145 589,-145 589,-101 589,-101 589,-95 595,-89 601,-89 601,-89 690,-89 690,-89 696,-89 702,-95 702,-101 702,-101 702,-145 702,-145 702,-151 696,-157 690,-157\"/>\r\n",
       "<text text-anchor=\"middle\" x=\"645.5\" y=\"-141.8\" font-family=\"Helvetica,sans-Serif\" font-size=\"14.00\">educ &lt;= 15.5</text>\r\n",
       "<text text-anchor=\"middle\" x=\"645.5\" y=\"-126.8\" font-family=\"Helvetica,sans-Serif\" font-size=\"14.00\">mse = 345.027</text>\r\n",
       "<text text-anchor=\"middle\" x=\"645.5\" y=\"-111.8\" font-family=\"Helvetica,sans-Serif\" font-size=\"14.00\">samples = 340</text>\r\n",
       "<text text-anchor=\"middle\" x=\"645.5\" y=\"-96.8\" font-family=\"Helvetica,sans-Serif\" font-size=\"14.00\">value = 72.606</text>\r\n",
       "</g>\r\n",
       "<!-- 8&#45;&gt;9 -->\r\n",
       "<g id=\"edge9\" class=\"edge\"><title>8&#45;&gt;9</title>\r\n",
       "<path fill=\"none\" stroke=\"black\" d=\"M645.5,-192.884C645.5,-184.778 645.5,-175.982 645.5,-167.472\"/>\r\n",
       "<polygon fill=\"black\" stroke=\"black\" points=\"649,-167.299 645.5,-157.299 642,-167.299 649,-167.299\"/>\r\n",
       "</g>\r\n",
       "<!-- 12 -->\r\n",
       "<g id=\"node13\" class=\"node\"><title>12</title>\r\n",
       "<path fill=\"#e58139\" fill-opacity=\"0.952941\" stroke=\"black\" d=\"M887,-157C887,-157 798,-157 798,-157 792,-157 786,-151 786,-145 786,-145 786,-101 786,-101 786,-95 792,-89 798,-89 798,-89 887,-89 887,-89 893,-89 899,-95 899,-101 899,-101 899,-145 899,-145 899,-151 893,-157 887,-157\"/>\r\n",
       "<text text-anchor=\"middle\" x=\"842.5\" y=\"-141.8\" font-family=\"Helvetica,sans-Serif\" font-size=\"14.00\">female &lt;= 0.5</text>\r\n",
       "<text text-anchor=\"middle\" x=\"842.5\" y=\"-126.8\" font-family=\"Helvetica,sans-Serif\" font-size=\"14.00\">mse = 330.649</text>\r\n",
       "<text text-anchor=\"middle\" x=\"842.5\" y=\"-111.8\" font-family=\"Helvetica,sans-Serif\" font-size=\"14.00\">samples = 200</text>\r\n",
       "<text text-anchor=\"middle\" x=\"842.5\" y=\"-96.8\" font-family=\"Helvetica,sans-Serif\" font-size=\"14.00\">value = 78.275</text>\r\n",
       "</g>\r\n",
       "<!-- 8&#45;&gt;12 -->\r\n",
       "<g id=\"edge12\" class=\"edge\"><title>8&#45;&gt;12</title>\r\n",
       "<path fill=\"none\" stroke=\"black\" d=\"M702.216,-196.634C725.499,-184.579 752.605,-170.545 776.749,-158.044\"/>\r\n",
       "<polygon fill=\"black\" stroke=\"black\" points=\"778.572,-161.041 785.843,-153.335 775.353,-154.825 778.572,-161.041\"/>\r\n",
       "</g>\r\n",
       "<!-- 10 -->\r\n",
       "<g id=\"node11\" class=\"node\"><title>10</title>\r\n",
       "<path fill=\"#e58139\" fill-opacity=\"0.780392\" stroke=\"black\" d=\"M625,-53C625,-53 536,-53 536,-53 530,-53 524,-47 524,-41 524,-41 524,-12 524,-12 524,-6 530,-0 536,-0 536,-0 625,-0 625,-0 631,-0 637,-6 637,-12 637,-12 637,-41 637,-41 637,-47 631,-53 625,-53\"/>\r\n",
       "<text text-anchor=\"middle\" x=\"580.5\" y=\"-37.8\" font-family=\"Helvetica,sans-Serif\" font-size=\"14.00\">mse = 369.301</text>\r\n",
       "<text text-anchor=\"middle\" x=\"580.5\" y=\"-22.8\" font-family=\"Helvetica,sans-Serif\" font-size=\"14.00\">samples = 247</text>\r\n",
       "<text text-anchor=\"middle\" x=\"580.5\" y=\"-7.8\" font-family=\"Helvetica,sans-Serif\" font-size=\"14.00\">value = 71.105</text>\r\n",
       "</g>\r\n",
       "<!-- 9&#45;&gt;10 -->\r\n",
       "<g id=\"edge10\" class=\"edge\"><title>9&#45;&gt;10</title>\r\n",
       "<path fill=\"none\" stroke=\"black\" d=\"M622.766,-88.9485C616.663,-80.0749 610.053,-70.4648 603.913,-61.5388\"/>\r\n",
       "<polygon fill=\"black\" stroke=\"black\" points=\"606.753,-59.4924 598.202,-53.2367 600.986,-63.4594 606.753,-59.4924\"/>\r\n",
       "</g>\r\n",
       "<!-- 11 -->\r\n",
       "<g id=\"node12\" class=\"node\"><title>11</title>\r\n",
       "<path fill=\"#e58139\" fill-opacity=\"0.913725\" stroke=\"black\" d=\"M756,-53C756,-53 667,-53 667,-53 661,-53 655,-47 655,-41 655,-41 655,-12 655,-12 655,-6 661,-0 667,-0 667,-0 756,-0 756,-0 762,-0 768,-6 768,-12 768,-12 768,-41 768,-41 768,-47 762,-53 756,-53\"/>\r\n",
       "<text text-anchor=\"middle\" x=\"711.5\" y=\"-37.8\" font-family=\"Helvetica,sans-Serif\" font-size=\"14.00\">mse = 258.693</text>\r\n",
       "<text text-anchor=\"middle\" x=\"711.5\" y=\"-22.8\" font-family=\"Helvetica,sans-Serif\" font-size=\"14.00\">samples = 93</text>\r\n",
       "<text text-anchor=\"middle\" x=\"711.5\" y=\"-7.8\" font-family=\"Helvetica,sans-Serif\" font-size=\"14.00\">value = 76.591</text>\r\n",
       "</g>\r\n",
       "<!-- 9&#45;&gt;11 -->\r\n",
       "<g id=\"edge11\" class=\"edge\"><title>9&#45;&gt;11</title>\r\n",
       "<path fill=\"none\" stroke=\"black\" d=\"M668.584,-88.9485C674.781,-80.0749 681.493,-70.4648 687.727,-61.5388\"/>\r\n",
       "<polygon fill=\"black\" stroke=\"black\" points=\"690.669,-63.4392 693.525,-53.2367 684.93,-59.4311 690.669,-63.4392\"/>\r\n",
       "</g>\r\n",
       "<!-- 13 -->\r\n",
       "<g id=\"node14\" class=\"node\"><title>13</title>\r\n",
       "<path fill=\"#e58139\" fill-opacity=\"0.878431\" stroke=\"black\" d=\"M887,-53C887,-53 798,-53 798,-53 792,-53 786,-47 786,-41 786,-41 786,-12 786,-12 786,-6 792,-0 798,-0 798,-0 887,-0 887,-0 893,-0 899,-6 899,-12 899,-12 899,-41 899,-41 899,-47 893,-53 887,-53\"/>\r\n",
       "<text text-anchor=\"middle\" x=\"842.5\" y=\"-37.8\" font-family=\"Helvetica,sans-Serif\" font-size=\"14.00\">mse = 399.015</text>\r\n",
       "<text text-anchor=\"middle\" x=\"842.5\" y=\"-22.8\" font-family=\"Helvetica,sans-Serif\" font-size=\"14.00\">samples = 79</text>\r\n",
       "<text text-anchor=\"middle\" x=\"842.5\" y=\"-7.8\" font-family=\"Helvetica,sans-Serif\" font-size=\"14.00\">value = 75.19</text>\r\n",
       "</g>\r\n",
       "<!-- 12&#45;&gt;13 -->\r\n",
       "<g id=\"edge13\" class=\"edge\"><title>12&#45;&gt;13</title>\r\n",
       "<path fill=\"none\" stroke=\"black\" d=\"M842.5,-88.9485C842.5,-80.7153 842.5,-71.848 842.5,-63.4814\"/>\r\n",
       "<polygon fill=\"black\" stroke=\"black\" points=\"846,-63.2367 842.5,-53.2367 839,-63.2367 846,-63.2367\"/>\r\n",
       "</g>\r\n",
       "<!-- 14 -->\r\n",
       "<g id=\"node15\" class=\"node\"><title>14</title>\r\n",
       "<path fill=\"#e58139\" stroke=\"black\" d=\"M1018,-53C1018,-53 929,-53 929,-53 923,-53 917,-47 917,-41 917,-41 917,-12 917,-12 917,-6 923,-0 929,-0 929,-0 1018,-0 1018,-0 1024,-0 1030,-6 1030,-12 1030,-12 1030,-41 1030,-41 1030,-47 1024,-53 1018,-53\"/>\r\n",
       "<text text-anchor=\"middle\" x=\"973.5\" y=\"-37.8\" font-family=\"Helvetica,sans-Serif\" font-size=\"14.00\">mse = 275.743</text>\r\n",
       "<text text-anchor=\"middle\" x=\"973.5\" y=\"-22.8\" font-family=\"Helvetica,sans-Serif\" font-size=\"14.00\">samples = 121</text>\r\n",
       "<text text-anchor=\"middle\" x=\"973.5\" y=\"-7.8\" font-family=\"Helvetica,sans-Serif\" font-size=\"14.00\">value = 80.289</text>\r\n",
       "</g>\r\n",
       "<!-- 12&#45;&gt;14 -->\r\n",
       "<g id=\"edge14\" class=\"edge\"><title>12&#45;&gt;14</title>\r\n",
       "<path fill=\"none\" stroke=\"black\" d=\"M888.317,-88.9485C901.633,-79.3431 916.145,-68.8747 929.355,-59.345\"/>\r\n",
       "<polygon fill=\"black\" stroke=\"black\" points=\"931.76,-61.9257 937.823,-53.2367 927.665,-56.2486 931.76,-61.9257\"/>\r\n",
       "</g>\r\n",
       "</g>\r\n",
       "</svg>\r\n"
      ],
      "text/plain": [
       "<graphviz.files.Source at 0x24945fe4eb8>"
      ]
     },
     "execution_count": 6,
     "metadata": {},
     "output_type": "execute_result"
    }
   ],
   "source": [
    "biden_tree_viz = export_graphviz(\n",
    "    biden_tree,\n",
    "    out_file=None,\n",
    "    feature_names=data.columns[1:],\n",
    "    class_names=data.columns[0],\n",
    "    rounded=True,\n",
    "    filled=True,\n",
    ")\n",
    "\n",
    "graph = graphviz.Source(biden_tree_viz)\n",
    "graph.render('biden_tree_viz')\n",
    "graph"
   ]
  },
  {
   "cell_type": "markdown",
   "metadata": {},
   "source": [
    "The results represent the best binary splits that minimize the error in prediction of 'biden' score given the 5 predictive variables, the max depth and the min samples in a leaf. The root node splits the data based on if the individuals are democrats or not, the left branch gives the non-democrats and the right branch gives the democrats. The non-democrats are further split into republicans and non-republicans and both are again split on the gender (female/not female). While on the 'democrats' branch, the next split is based on age. With age <=54.5, the next split is based on education (<=15.5 or more). And finaly for the older population (age>54.5) the next most relevant split is based on gender. Each of the root nodes give the average value ('value') of the observations corresponding to that leaf's parent nodes. Given a new datapoint, we need to traverse the tree to reach a leaf node and the 'value' for the leaf node would be the predictor from this model for 'biden' score."
   ]
  },
  {
   "cell_type": "code",
   "execution_count": 7,
   "metadata": {},
   "outputs": [
    {
     "name": "stdout",
     "output_type": "stream",
     "text": [
      "MSE= 396.1937146321307\n"
     ]
    }
   ],
   "source": [
    "y_pred = biden_tree.predict(X_test)\n",
    "MSE1 = mean_squared_error(y_test, y_pred)\n",
    "print('MSE=', MSE1)"
   ]
  },
  {
   "cell_type": "code",
   "execution_count": 8,
   "metadata": {},
   "outputs": [
    {
     "name": "stdout",
     "output_type": "stream",
     "text": [
      "Best estimator =  DecisionTreeRegressor(criterion='mse', max_depth=3, max_features=None,\n",
      "           max_leaf_nodes=None, min_impurity_decrease=0.0,\n",
      "           min_impurity_split=None, min_samples_leaf=17,\n",
      "           min_samples_split=14, min_weight_fraction_leaf=0.0,\n",
      "           presort=False, random_state=None, splitter='best')\n",
      "Best tuning parameters =  {'max_depth': 3, 'min_samples_leaf': 17, 'min_samples_split': 14}\n",
      "MSE of optimal results = 401.6903602232667\n"
     ]
    }
   ],
   "source": [
    "# Solution 1.b.\n",
    "param_dist1 = {'max_depth': [3, 10],\n",
    "               'min_samples_split': sp_randint(2, 20),\n",
    "               'min_samples_leaf': sp_randint(2, 20)}\n",
    "\n",
    "biden_tree2 = DecisionTreeRegressor()\n",
    "\n",
    "random_search1 = RandomizedSearchCV(biden_tree2, \n",
    "                                    param_distributions=param_dist1,\n",
    "                                    n_iter=100, \n",
    "                                    n_jobs=-1, \n",
    "                                    cv=5, \n",
    "                                    random_state=25,\n",
    "                                    scoring='neg_mean_squared_error')\n",
    "\n",
    "random_search1.fit(X, y)\n",
    "print('Best estimator = ', random_search1.best_estimator_)\n",
    "print('Best tuning parameters = ', random_search1.best_params_)\n",
    "print('MSE of optimal results =', -random_search1.best_score_)"
   ]
  },
  {
   "cell_type": "code",
   "execution_count": 9,
   "metadata": {},
   "outputs": [
    {
     "name": "stdout",
     "output_type": "stream",
     "text": [
      "Best estimator =  RandomForestRegressor(bootstrap=True, criterion='mse', max_depth=3,\n",
      "           max_features=2, max_leaf_nodes=None, min_impurity_decrease=0.0,\n",
      "           min_impurity_split=None, min_samples_leaf=17,\n",
      "           min_samples_split=13, min_weight_fraction_leaf=0.0,\n",
      "           n_estimators=10, n_jobs=None, oob_score=True, random_state=25,\n",
      "           verbose=0, warm_start=False)\n",
      "Best tuning parameters =  {'max_depth': 3, 'max_features': 2, 'min_samples_leaf': 17, 'min_samples_split': 13, 'n_estimators': 10}\n",
      "MSE of optimal results = 397.0681090117028\n"
     ]
    },
    {
     "name": "stderr",
     "output_type": "stream",
     "text": [
      "C:\\Users\\admin\\Anaconda3\\lib\\site-packages\\sklearn\\ensemble\\forest.py:732: UserWarning: Some inputs do not have OOB scores. This probably means too few trees were used to compute any reliable oob estimates.\n",
      "  warn(\"Some inputs do not have OOB scores. \"\n"
     ]
    }
   ],
   "source": [
    "# Solution 1.c.\n",
    "param_dist2 = { 'n_estimators': [10, 200],\n",
    "                'max_depth': [3, 10],\n",
    "                'min_samples_split': sp_randint(2, 20),\n",
    "                'min_samples_leaf': sp_randint(2, 20),\n",
    "                'max_features': sp_randint(1, 5)}\n",
    "\n",
    "biden_tree3 = RandomForestRegressor(bootstrap=True,oob_score=True, random_state=25)\n",
    "\n",
    "random_search2 = RandomizedSearchCV(biden_tree3, param_distributions=param_dist2, n_iter=100,\n",
    "                                    n_jobs=-1, cv=5, random_state=25, scoring='neg_mean_squared_error')\n",
    "\n",
    "random_search2.fit(X, y)\n",
    "print('Best estimator = ', random_search2.best_estimator_)\n",
    "print('Best tuning parameters = ', random_search2.best_params_)\n",
    "print('MSE of optimal results =', -random_search2.best_score_)"
   ]
  },
  {
   "cell_type": "markdown",
   "metadata": {},
   "source": [
    "#### Problem 2"
   ]
  },
  {
   "cell_type": "code",
   "execution_count": 10,
   "metadata": {},
   "outputs": [],
   "source": [
    "data = pd.read_csv('Auto.csv', na_values=['?'])\n",
    "data = data.dropna()"
   ]
  },
  {
   "cell_type": "code",
   "execution_count": 11,
   "metadata": {},
   "outputs": [],
   "source": [
    "med = data['mpg'].median()\n",
    "data['mpg_high'] = (data['mpg'] >= med).astype(int)\n",
    "data['const'] = 1\n",
    "data['origin1'] = (data['origin'] == 1).astype(int)\n",
    "data['origin2'] = (data['origin'] == 2).astype(int)"
   ]
  },
  {
   "cell_type": "code",
   "execution_count": 12,
   "metadata": {},
   "outputs": [],
   "source": [
    "# Solution 2.a.\n",
    "xvars = ['const', 'cylinders', 'displacement', 'horsepower', 'weight', 'acceleration', 'year', 'origin1', 'origin2']\n",
    "X = data[xvars]\n",
    "y = data['mpg_high']\n",
    "Xvals = X.values\n",
    "yvals = y.values"
   ]
  },
  {
   "cell_type": "code",
   "execution_count": 13,
   "metadata": {},
   "outputs": [
    {
     "name": "stdout",
     "output_type": "stream",
     "text": [
      "k = 0\n",
      "k = 1\n",
      "k = 2\n",
      "k = 3\n",
      "Average MSE across k = 4= 0.097\n",
      "Average error rate for mpg_high == 0 : 11.365 %\n",
      "Average error rate for mpg_high == 1 : 7.941 %\n"
     ]
    }
   ],
   "source": [
    "k = 4\n",
    "kf = KFold(n_splits=k, shuffle=True, random_state=25)\n",
    "kf.get_n_splits(Xvals)\n",
    "MSE_vec = np.zeros(k)\n",
    "grp0_err_vec = np.zeros(k)\n",
    "grp1_err_vec = np.zeros(k)\n",
    "\n",
    "k = 0\n",
    "for train_index, test_index in kf.split(Xvals):\n",
    "    print('k =', k)\n",
    "    X_train, X_test = Xvals[train_index], Xvals[test_index]\n",
    "    y_train, y_test = yvals[train_index], yvals[test_index]\n",
    "    \n",
    "    LogReg = LogisticRegression(solver='liblinear')\n",
    "    LogReg.fit(X_train, y_train)\n",
    "    y_pred = LogReg.predict(X_test)\n",
    "    \n",
    "    MSE_vec[k] = ((y_test - y_pred) ** 2).mean()\n",
    "    grp0_err_vec[k] = sum((y_test != y_pred) * (y_test == 0)) / sum(y_test == 0)\n",
    "    grp1_err_vec[k] = sum((y_test != y_pred) * (y_test == 1)) / sum(y_test == 1)\n",
    "    \n",
    "    k += 1\n",
    "\n",
    "# Note the error rate is calculated as the ratio of mispredicted values to total values for each group\n",
    "print('Average MSE across k = 4=', round(MSE_vec.mean(), 3))\n",
    "print('Average error rate for mpg_high == 0 :', round(grp0_err_vec.mean()*100, 3), '%')\n",
    "print('Average error rate for mpg_high == 1 :', round(grp1_err_vec.mean()*100, 3), '%')"
   ]
  },
  {
   "cell_type": "code",
   "execution_count": 14,
   "metadata": {},
   "outputs": [
    {
     "name": "stdout",
     "output_type": "stream",
     "text": [
      "Best estimator =  RandomForestClassifier(bootstrap=True, class_weight=None, criterion='gini',\n",
      "            max_depth=8, max_features=3, max_leaf_nodes=None,\n",
      "            min_impurity_decrease=0.0, min_impurity_split=None,\n",
      "            min_samples_leaf=15, min_samples_split=2,\n",
      "            min_weight_fraction_leaf=0.0, n_estimators=10, n_jobs=None,\n",
      "            oob_score=True, random_state=25, verbose=0, warm_start=False)\n",
      "Best tuning parameters =  {'max_depth': 8, 'max_features': 3, 'min_samples_leaf': 15, 'min_samples_split': 2, 'n_estimators': 10}\n",
      "MSE of optimal results = 0.08928571428571429\n"
     ]
    },
    {
     "name": "stderr",
     "output_type": "stream",
     "text": [
      "C:\\Users\\admin\\Anaconda3\\lib\\site-packages\\sklearn\\ensemble\\forest.py:458: UserWarning: Some inputs do not have OOB scores. This probably means too few trees were used to compute any reliable oob estimates.\n",
      "  warn(\"Some inputs do not have OOB scores. \"\n",
      "C:\\Users\\admin\\Anaconda3\\lib\\site-packages\\sklearn\\ensemble\\forest.py:463: RuntimeWarning: invalid value encountered in true_divide\n",
      "  predictions[k].sum(axis=1)[:, np.newaxis])\n"
     ]
    }
   ],
   "source": [
    "# Solution 2.b.\n",
    "xvars = ['cylinders', 'displacement', 'horsepower', 'weight', 'acceleration', 'year', 'origin1', 'origin2']\n",
    "X = data[xvars]\n",
    "y = data['mpg_high']\n",
    "\n",
    "param_dist3 = { 'n_estimators': [10, 200],\n",
    "                'max_depth': [3, 8],\n",
    "                'min_samples_split': sp_randint(2, 20),\n",
    "                'min_samples_leaf': sp_randint(2, 20),\n",
    "                'max_features': sp_randint(1, 8)}\n",
    "\n",
    "mpg_tree = RandomForestClassifier(bootstrap=True, oob_score=True, random_state=25)\n",
    "\n",
    "random_search3 = RandomizedSearchCV(mpg_tree, param_distributions=param_dist3, n_iter=100,\n",
    "                                    n_jobs=-1, cv=4, random_state=25, scoring='neg_mean_squared_error')\n",
    "\n",
    "random_search3.fit(X, y)\n",
    "print('Best estimator = ', random_search3.best_estimator_)\n",
    "print('Best tuning parameters = ', random_search3.best_params_)\n",
    "print('MSE of optimal results =', -random_search3.best_score_)"
   ]
  },
  {
   "cell_type": "code",
   "execution_count": 15,
   "metadata": {},
   "outputs": [
    {
     "name": "stdout",
     "output_type": "stream",
     "text": [
      "Best estimator =  SVC(C=1.8094629152568114, cache_size=200, class_weight=None, coef0=0.0,\n",
      "  decision_function_shape='ovr', degree=3, gamma='scale', kernel='rbf',\n",
      "  max_iter=-1, probability=False, random_state=None, shrinking=False,\n",
      "  tol=0.001, verbose=False)\n",
      "Best tuning parameters =  {'C': 1.8094629152568114, 'gamma': 'scale', 'shrinking': False}\n",
      "MSE of optimal results = 0.11479591836734694\n"
     ]
    }
   ],
   "source": [
    "# Solution 2.c.\n",
    "param_dist4 = { 'C': sp_uniform(loc=0.2, scale=4.0),\n",
    "                'gamma': ['scale', 'auto'],\n",
    "                'shrinking': [True, False]}\n",
    "\n",
    "mpg_tree2 = SVC(kernel='rbf')\n",
    "\n",
    "random_search4 = RandomizedSearchCV(mpg_tree2, param_distributions=param_dist4, n_iter=100,\n",
    "                                    n_jobs=-1, cv=4, random_state=25, scoring='neg_mean_squared_error')\n",
    "\n",
    "random_search4.fit(X, y)\n",
    "print('Best estimator = ', random_search4.best_estimator_)\n",
    "print('Best tuning parameters = ', random_search4.best_params_)\n",
    "print('MSE of optimal results =', -random_search4.best_score_)"
   ]
  },
  {
   "cell_type": "markdown",
   "metadata": {},
   "source": [
    "The MSE of each of the models is: logit(0.097), random forest classification (0.089), and support vector classificatin (0.115). Clearly the lowest MSE is for the random forest classification. Thus random forest is the best model for the given data to predict mpg_high."
   ]
  },
  {
   "cell_type": "code",
   "execution_count": null,
   "metadata": {},
   "outputs": [],
   "source": []
  }
 ],
 "metadata": {
  "kernelspec": {
   "display_name": "Python 3",
   "language": "python",
   "name": "python3"
  },
  "language_info": {
   "codemirror_mode": {
    "name": "ipython",
    "version": 3
   },
   "file_extension": ".py",
   "mimetype": "text/x-python",
   "name": "python",
   "nbconvert_exporter": "python",
   "pygments_lexer": "ipython3",
   "version": "3.7.1"
  }
 },
 "nbformat": 4,
 "nbformat_minor": 2
}
